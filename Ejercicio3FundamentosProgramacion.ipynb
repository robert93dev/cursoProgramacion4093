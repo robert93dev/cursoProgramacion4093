{
  "nbformat": 4,
  "nbformat_minor": 0,
  "metadata": {
    "colab": {
      "provenance": []
    },
    "kernelspec": {
      "name": "python3",
      "display_name": "Python 3"
    },
    "language_info": {
      "name": "python"
    }
  },
  "cells": [
    {
      "cell_type": "markdown",
      "source": [],
      "metadata": {
        "id": "OKAbdpgsZJ0F"
      }
    },
    {
      "cell_type": "markdown",
      "source": [
        "**TALLER**\n",
        "\n",
        "Es integrar Ciclos y Funciones en el código del Taller 1 y Taller 2."
      ],
      "metadata": {
        "id": "lBEeiJvkH3AZ"
      }
    },
    {
      "cell_type": "code",
      "execution_count": null,
      "metadata": {
        "colab": {
          "base_uri": "https://localhost:8080/"
        },
        "id": "F8A3q8EAZIkY",
        "outputId": "c367cce1-ea82-4359-8782-eef117e9f2af"
      },
      "outputs": [
        {
          "name": "stdout",
          "output_type": "stream",
          "text": [
            "Digite Numero de cedula : 324\n",
            "Digite su nombre: 324\n",
            "Direccion: 324\n",
            "Telefono: 234\n",
            "digite la estatura: 234\n",
            "Fecha contratacion: 32\n",
            "Estado: 324\n",
            "tiene hijos: 324\n",
            "Dias laborados: 324\n",
            "Salario: 324\n",
            "Edad : 324\n",
            "Recibe bono alimentacion por valor $ 0\n",
            "Bono pre-pension: $ 16\n",
            "Comision por salario: $ 0\n",
            "Su salario si aplica bono: $ 324\n",
            "Salario todo incluido: $ 340\n",
            "¿¿Desea continuar con más validaciones? (si/no) no\n"
          ]
        }
      ],
      "source": [
        "\n",
        "def comision_sal(slbasic):\n",
        "    comision = 0\n",
        "    if slbasic >=1000000 and slbasic <= 1500000:  \n",
        "       comision = slbasic * 0.02\n",
        "    elif slbasic > 1500001 and slbasic <= 2000000:\n",
        "        comision = slbasic * 0.05        \n",
        "    return comision\n",
        "\n",
        "def bon_alim(slbasic, dias_lab):\n",
        "    alimentacion = 0\n",
        "    if dias_lab == 20 and slbasic < 1000000: \n",
        "       alimentacion = 100000\n",
        "    return alimentacion\n",
        "\n",
        "def pre_pension(slbasic, edad):\n",
        "    bono = 0\n",
        "    if edad >= 56:                              \n",
        "       bono = slbasic * 0.05\n",
        "    return bono   \n",
        "\n",
        "resp = \"si\"\n",
        "while resp.lower()== 'si':\n",
        "    identificacion = int(input(\"Digite Numero de cedula : \"))\n",
        "    nombre = input('Digite su nombre: ')\n",
        "    direccion = input('Direccion: ')\n",
        "    telefono = int(input('Telefono: '))\n",
        "    estatura = float(input('digite la estatura: '))\n",
        "    fecha_contratacion = input('Fecha contratacion: ')\n",
        "    estadocivil = input('Estado: ')\n",
        "    hijos = input('tiene hijos: ')\n",
        "    if estadocivil.lower() == \"casado\" and hijos.lower() == \"si\": \n",
        "        print(\"Ganaste un viaje para diciembre\")\n",
        "    dias_lab = int(input('Dias laborados: '))\n",
        "    slbasic = float(input('Salario: '))\n",
        "    edad = int(input('Edad : '))\n",
        "    \n",
        "    bono_alim = bon_alim(slbasic, dias_lab)\n",
        "    bono_pre_pension = pre_pension(slbasic, edad)\n",
        "    comision = comision_sal(slbasic)\n",
        "    \n",
        "    resul1 = slbasic + bono_alim\n",
        "    resultado = slbasic + bono_alim + bono_pre_pension + comision\n",
        "    \n",
        "    print('Recibe bono alimentacion por valor $', bono_alim)\n",
        "    print('Bono pre-pension: $', '{:.0f}'.format(bono_pre_pension))\n",
        "    print('Comision por salario: $', '{:.0f}'.format(comision))\n",
        "    print('Su salario si aplica bono: $', '{:.0f}'.format(resul1))\n",
        "    print('Salario todo incluido: $', '{:.0f}'.format(resultado))\n",
        "    \n",
        "    resp = input('¿¿Desea continuar con más validaciones? (si/no) ')"
      ]
    }
  ]
}