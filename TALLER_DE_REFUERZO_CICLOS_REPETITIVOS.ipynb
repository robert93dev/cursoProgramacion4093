{
  "nbformat": 4,
  "nbformat_minor": 0,
  "metadata": {
    "colab": {
      "provenance": []
    },
    "kernelspec": {
      "name": "python3",
      "display_name": "Python 3"
    },
    "language_info": {
      "name": "python"
    }
  },
  "cells": [
    {
      "cell_type": "markdown",
      "source": [
        "# TALLER DE REFUERZO\n",
        "\n",
        "\n",
        "\n",
        "\n",
        "\n",
        "\n"
      ],
      "metadata": {
        "id": "3-eTprgvbhRt"
      }
    },
    {
      "cell_type": "code",
      "source": [],
      "metadata": {
        "id": "0CjUEBUzxoAd"
      },
      "execution_count": null,
      "outputs": []
    },
    {
      "cell_type": "markdown",
      "source": [
        "I. Diseña un programa en PYTHON para cada uno de los problemas que se te plantean.\n",
        "1. Se necesita un sistema que despliega una tabla de multiplicar de un número dado por el usuario. ciclo for\n"
      ],
      "metadata": {
        "id": "XDaVazhmboRA"
      }
    },
    {
      "cell_type": "code",
      "source": [
        "tablamulti = int(input(\"Digite número de la tabla:\"))\n",
        "for h in range(11):\n",
        "  print(h,\" X \", tablamulti ,\" = \", h * tablamulti)"
      ],
      "metadata": {
        "colab": {
          "base_uri": "https://localhost:8080/"
        },
        "id": "1uGlPDoDbvW4",
        "outputId": "d5c9f1e8-aaa1-4013-ba58-e5e0e66aa471"
      },
      "execution_count": null,
      "outputs": [
        {
          "output_type": "stream",
          "name": "stdout",
          "text": [
            "Digite número de la tabla:5\n",
            "0  X  5  =  0\n",
            "1  X  5  =  5\n",
            "2  X  5  =  10\n",
            "3  X  5  =  15\n",
            "4  X  5  =  20\n",
            "5  X  5  =  25\n",
            "6  X  5  =  30\n",
            "7  X  5  =  35\n",
            "8  X  5  =  40\n",
            "9  X  5  =  45\n",
            "10  X  5  =  50\n"
          ]
        }
      ]
    },
    {
      "cell_type": "markdown",
      "source": [
        "2. Se necesita un sistema que pida un sueldo de un trabajador, si el sueldo es mayor a 655000, no tedrá ninguna bonificación, pero si es menor tiene bonificación del 4%. Al final se desea saber el total del sueldo con o sin bonificación. Preguntar si desea ejecutar de nuevo el programa con el ciclo while."
      ],
      "metadata": {
        "id": "0hz8Cr7JbvwI"
      }
    },
    {
      "cell_type": "code",
      "source": [
        "from IPython.utils.text import string\n",
        "# sueldo = 655000\n",
        "# sueldo = int(input(\"Digite su sueldo: \"))\n",
        "i = 0\n",
        "while i != 1:\n",
        "  print(\"sueldo\")\n",
        "  sueldo += 655000\n",
        "  sueldo=int(input(\"Digite sueldo:\"))\n",
        "  if sueldo > 655000:\n",
        "    print(\"No aplica paara la bonificación de 4%\")\n",
        "  else:\n",
        "    print(\"Aplica bonificación\")\n",
        "    bono = sueldo * 0.04\n",
        "  print(\"La bonificación es = {:,.0f}\".format(bono,sueldo))\n",
        "  total=bono + sueldo\n",
        "  totalapagar = print(\"El total a pagar es= ${:,.0f}\".format(total))\n",
        "  i = int(input(\"Si desea introducir nuevo sueldo digite 0 o cualquier tecla para salir: \"))"
      ],
      "metadata": {
        "colab": {
          "base_uri": "https://localhost:8080/"
        },
        "id": "nkHgcJsrb1T4",
        "outputId": "344df426-6978-4726-e604-50b0ea644a3a"
      },
      "execution_count": null,
      "outputs": [
        {
          "name": "stdout",
          "output_type": "stream",
          "text": [
            "sueldo\n",
            "Digite sueldo:43567\n",
            "Aplica bonificación\n",
            "La bonificación es = 1,743\n",
            "El total a pagar es= $45,310\n",
            "Si desea introducir nuevo sueldo digite 0 o cualquier tecla para salir: 0\n",
            "sueldo\n",
            "Digite sueldo:12345\n",
            "Aplica bonificación\n",
            "La bonificación es = 494\n",
            "El total a pagar es= $12,839\n",
            "Si desea introducir nuevo sueldo digite 0 o cualquier tecla para salir: 0\n",
            "sueldo\n",
            "Digite sueldo:1234556\n",
            "No aplica paara la bonificación de 4%\n",
            "La bonificación es = 494\n",
            "El total a pagar es= $1,235,050\n",
            "Si desea introducir nuevo sueldo digite 0 o cualquier tecla para salir: 1\n"
          ]
        }
      ]
    },
    {
      "cell_type": "markdown",
      "source": [
        "3. Un maestro necesita un sistema para capturar las calificaciones de 5 parciales de sus alumnos, después recapturarlas necesita que se despliegue el promedio, cuando ya no quiera capturar más alumnos, necesita que se despliegue el promedio general de todos los alumnos capturados. Preguntar si desea ejecutar de nuevo el programa con el ciclo while."
      ],
      "metadata": {
        "id": "I6lnnVsubySo"
      }
    },
    {
      "cell_type": "code",
      "source": [
        "for d in range(0,101,2):\n",
        "  print(d)\n",
        "     "
      ],
      "metadata": {
        "id": "gMHNHj0xb2Gw"
      },
      "execution_count": null,
      "outputs": []
    },
    {
      "cell_type": "markdown",
      "source": [
        "4. Crear un bucle que cuente todos los números pares hasta el 100 ciclo for"
      ],
      "metadata": {
        "id": "wFf7tVz3b2ww"
      }
    },
    {
      "cell_type": "code",
      "source": [
        "for c in range(0,102,2):\n",
        "  print(c)"
      ],
      "metadata": {
        "colab": {
          "base_uri": "https://localhost:8080/"
        },
        "id": "s1BlqQpZb-By",
        "outputId": "8bd2cbeb-3900-45af-d4f4-b5ea3580d04e"
      },
      "execution_count": null,
      "outputs": [
        {
          "output_type": "stream",
          "name": "stdout",
          "text": [
            "0\n",
            "2\n",
            "4\n",
            "6\n",
            "8\n",
            "10\n",
            "12\n",
            "14\n",
            "16\n",
            "18\n",
            "20\n",
            "22\n",
            "24\n",
            "26\n",
            "28\n",
            "30\n",
            "32\n",
            "34\n",
            "36\n",
            "38\n",
            "40\n",
            "42\n",
            "44\n",
            "46\n",
            "48\n",
            "50\n",
            "52\n",
            "54\n",
            "56\n",
            "58\n",
            "60\n",
            "62\n",
            "64\n",
            "66\n",
            "68\n",
            "70\n",
            "72\n",
            "74\n",
            "76\n",
            "78\n",
            "80\n",
            "82\n",
            "84\n",
            "86\n",
            "88\n",
            "90\n",
            "92\n",
            "94\n",
            "96\n",
            "98\n",
            "100\n"
          ]
        }
      ]
    },
    {
      "cell_type": "markdown",
      "source": [
        "5. Haz una tabla de multiplicar utilizando el ciclo for ciclo for"
      ],
      "metadata": {
        "id": "0wdVgO2Zb6vs"
      }
    },
    {
      "cell_type": "code",
      "source": [
        "\n",
        "numero = int(input(\"Digite el número de la tabla de multiplicar: \"))\n",
        "for a in range(11):\n",
        "  print(a, \" X \", numero, \" = \", a*numero)"
      ],
      "metadata": {
        "colab": {
          "base_uri": "https://localhost:8080/"
        },
        "id": "LxRblL-Xb-xK",
        "outputId": "9973a9ab-747c-4009-93f6-f5f535fcbf76"
      },
      "execution_count": null,
      "outputs": [
        {
          "output_type": "stream",
          "name": "stdout",
          "text": [
            "Digite el número de la tabla de multiplicar: 5\n",
            "0  X  5  =  0\n",
            "1  X  5  =  5\n",
            "2  X  5  =  10\n",
            "3  X  5  =  15\n",
            "4  X  5  =  20\n",
            "5  X  5  =  25\n",
            "6  X  5  =  30\n",
            "7  X  5  =  35\n",
            "8  X  5  =  40\n",
            "9  X  5  =  45\n",
            "10  X  5  =  50\n"
          ]
        }
      ]
    },
    {
      "cell_type": "markdown",
      "source": [
        "6. Escribir un programa que pregunte al usuario su edad y muestre por pantalla todos los años que ha cumplido (desde 1 hasta su edad). ciclo for"
      ],
      "metadata": {
        "id": "MLCoI8bNb86x"
      }
    },
    {
      "cell_type": "code",
      "source": [
        "edad = int(input(\"Digite su edad: \"))\n",
        "primer = 2023 - edad\n",
        "for b in range(edad):\n",
        "  print(\" en el ano \", primer, \" tenia \", b)\n",
        "  primer = primer + 1"
      ],
      "metadata": {
        "colab": {
          "base_uri": "https://localhost:8080/"
        },
        "id": "TaJZ6mPab_mg",
        "outputId": "9b79de5e-34ad-4c47-a86e-dfed8604405a"
      },
      "execution_count": null,
      "outputs": [
        {
          "output_type": "stream",
          "name": "stdout",
          "text": [
            "Digite su edad: 45\n",
            " en el ano  1978  tenia  0\n",
            " en el ano  1979  tenia  1\n",
            " en el ano  1980  tenia  2\n",
            " en el ano  1981  tenia  3\n",
            " en el ano  1982  tenia  4\n",
            " en el ano  1983  tenia  5\n",
            " en el ano  1984  tenia  6\n",
            " en el ano  1985  tenia  7\n",
            " en el ano  1986  tenia  8\n",
            " en el ano  1987  tenia  9\n",
            " en el ano  1988  tenia  10\n",
            " en el ano  1989  tenia  11\n",
            " en el ano  1990  tenia  12\n",
            " en el ano  1991  tenia  13\n",
            " en el ano  1992  tenia  14\n",
            " en el ano  1993  tenia  15\n",
            " en el ano  1994  tenia  16\n",
            " en el ano  1995  tenia  17\n",
            " en el ano  1996  tenia  18\n",
            " en el ano  1997  tenia  19\n",
            " en el ano  1998  tenia  20\n",
            " en el ano  1999  tenia  21\n",
            " en el ano  2000  tenia  22\n",
            " en el ano  2001  tenia  23\n",
            " en el ano  2002  tenia  24\n",
            " en el ano  2003  tenia  25\n",
            " en el ano  2004  tenia  26\n",
            " en el ano  2005  tenia  27\n",
            " en el ano  2006  tenia  28\n",
            " en el ano  2007  tenia  29\n",
            " en el ano  2008  tenia  30\n",
            " en el ano  2009  tenia  31\n",
            " en el ano  2010  tenia  32\n",
            " en el ano  2011  tenia  33\n",
            " en el ano  2012  tenia  34\n",
            " en el ano  2013  tenia  35\n",
            " en el ano  2014  tenia  36\n",
            " en el ano  2015  tenia  37\n",
            " en el ano  2016  tenia  38\n",
            " en el ano  2017  tenia  39\n",
            " en el ano  2018  tenia  40\n",
            " en el ano  2019  tenia  41\n",
            " en el ano  2020  tenia  42\n",
            " en el ano  2021  tenia  43\n",
            " en el ano  2022  tenia  44\n"
          ]
        }
      ]
    }
  ]
}