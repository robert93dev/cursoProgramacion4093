{
  "nbformat": 4,
  "nbformat_minor": 0,
  "metadata": {
    "colab": {
      "provenance": []
    },
    "kernelspec": {
      "name": "python3",
      "display_name": "Python 3"
    },
    "language_info": {
      "name": "python"
    }
  },
  "cells": [
    {
      "cell_type": "markdown",
      "source": [
        "I. Diseña un programa en PYTHON para cada uno de los problemas\n",
        "que se te plantean.\n",
        "1. Un vendedor recibe un sueldo base más un 10% extra por\n",
        "comisión de sus ventas, el vendedor desea saber cuánto\n",
        "dinero obtendrá por concepto de comisiones por las tres\n",
        "ventas que realiza en el mes y el total que recibirá en\n",
        "el mes tomando en cuenta su sueldo base y comisiones."
      ],
      "metadata": {
        "id": "oQuS28bwZcgM"
      }
    },
    {
      "cell_type": "code",
      "source": [],
      "metadata": {
        "id": "fkR-m0bgxpIh"
      },
      "execution_count": null,
      "outputs": []
    },
    {
      "cell_type": "code",
      "execution_count": null,
      "metadata": {
        "colab": {
          "base_uri": "https://localhost:8080/"
        },
        "id": "Z3-ZOa0cZYOS",
        "outputId": "afe4d3f3-afc0-4805-a55c-9e8bc1fbc794"
      },
      "outputs": [
        {
          "output_type": "stream",
          "name": "stdout",
          "text": [
            "Digite su salario: 100\n",
            "Valor de la venta 1 1000\n",
            "Valor de la venta 2 1000\n",
            "Valor de la venta 3 2000\n",
            "la comision es:  400\n",
            "Su sueldo mas comision es:  500\n"
          ]
        }
      ],
      "source": [
        "sueldo = float(input('Digite su salario: '))\n",
        "venta1 = float(input('Valor de la venta 1 '))* 0.10\n",
        "venta2 = float(input('Valor de la venta 2 '))* 0.10\n",
        "venta3 = float(input('Valor de la venta 3 '))* 0.10\n",
        "ventas = venta1 + venta2 + venta3\n",
        "comision = ventas\n",
        "total = sueldo + comision \n",
        "print('la comision es: ','{:.0f}'.format(comision))\n",
        "print('Su sueldo mas comision es: ','{:.0f}'.format(total))"
      ]
    },
    {
      "cell_type": "markdown",
      "source": [
        "2. Una tienda ofrece un descuento del 15% sobre el total\n",
        "de la compra y un cliente desea saber cuánto deberá\n",
        "pagar finalmente por su compra."
      ],
      "metadata": {
        "id": "5jpt-yqxZgmY"
      }
    },
    {
      "cell_type": "code",
      "source": [
        "compra = float(input('Digite el valor de la compra: '))\n",
        "\n",
        "dcto= compra * 0.15\n",
        "descuento = dcto\n",
        "\n",
        "total = compra - descuento\n",
        "print('Su descuento es: ','{:.0f}'.format(descuento))\n",
        "print('Valor total: ','{:.0f}'.format(total))"
      ],
      "metadata": {
        "colab": {
          "base_uri": "https://localhost:8080/"
        },
        "id": "8ILNK9KeZheZ",
        "outputId": "54c35e16-5c87-4f5c-e680-88669a32a730"
      },
      "execution_count": null,
      "outputs": [
        {
          "output_type": "stream",
          "name": "stdout",
          "text": [
            "Digite el valor de la compra: 1500000\n",
            "Su descuento es:  225000\n",
            "Valor total:  1275000\n"
          ]
        }
      ]
    },
    {
      "cell_type": "markdown",
      "source": [
        "3. Un alumno desea saber cuál será su calificación final en\n",
        "la materia de Algoritmos. Dicha calificación se compone\n",
        "de tres exámenes parciales."
      ],
      "metadata": {
        "id": "MZU0NNH-Zh9f"
      }
    },
    {
      "cell_type": "code",
      "source": [],
      "metadata": {
        "id": "8uMs1H35Zj6A"
      },
      "execution_count": null,
      "outputs": []
    },
    {
      "cell_type": "markdown",
      "source": [
        "4. Un maestro desea saber qué porcentaje de hombres y que\n",
        "porcentaje de mujeres hay en un grupo de estudiantes."
      ],
      "metadata": {
        "id": "ZHOZnZLAZmaq"
      }
    },
    {
      "cell_type": "code",
      "source": [
        "mujeres = int(input('Digite el numero de mujeres: ')) \n",
        "hombres = int(input('Digite el numero de hombres: ')) \n",
        "\n",
        "totalestudiantes = mujeres + hombres\n",
        "\n",
        "porcentaje_mujer = mujeres/totalestudiantes*100\n",
        "porcentaje_hombre = hombres/totalestudiantes*100\n",
        "\n",
        "print('El porcentaje de mujeres es: %','{:.2f}'.format(porcentaje_mujer))\n",
        "print('El porcentaje de hombres es: %','{:.2f}'.format(porcentaje_hombre))"
      ],
      "metadata": {
        "colab": {
          "base_uri": "https://localhost:8080/"
        },
        "id": "cwjxAtphZnvY",
        "outputId": "645c9b78-15ef-40cf-a721-f83109bd5317"
      },
      "execution_count": null,
      "outputs": [
        {
          "output_type": "stream",
          "name": "stdout",
          "text": [
            "Digite el numero de mujeres: 10\n",
            "Digite el numero de hombres: 15\n",
            "El porcentaje de mujeres es: % 40.00\n",
            "El porcentaje de hombres es: % 60.00\n"
          ]
        }
      ]
    }
  ]
}