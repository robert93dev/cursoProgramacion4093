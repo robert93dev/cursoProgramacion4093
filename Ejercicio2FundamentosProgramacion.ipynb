{
  "nbformat": 4,
  "nbformat_minor": 0,
  "metadata": {
    "colab": {
      "provenance": []
    },
    "kernelspec": {
      "name": "python3",
      "display_name": "Python 3"
    },
    "language_info": {
      "name": "python"
    }
  },
  "cells": [
    {
      "cell_type": "code",
      "execution_count": null,
      "metadata": {
        "colab": {
          "base_uri": "https://localhost:8080/"
        },
        "id": "SXYOtUOdY6Y1",
        "outputId": "f22892eb-81f6-4d09-f257-f4d2797b3be3"
      },
      "outputs": [
        {
          "output_type": "stream",
          "name": "stdout",
          "text": [
            "Digite Numero de cedula : 79956789\n",
            "Digite su nombre: Robert\n",
            "Edad : 45\n",
            "Estado: casado\n",
            "tiene hijos: 1\n",
            "digite la estatura: 182\n",
            "Direccion: cr 49\n",
            "Telefono: 3238071950\n",
            "identificacion es 79956789\n",
            "nombre: Robert\n",
            "edad: 45\n",
            "estadocivil: casado\n",
            "hijos: 1\n",
            "estatura: 182.0\n",
            "direccion: cr 49\n",
            "telefono: 3238071950\n",
            "Fecha contratacion: 123456\n",
            "Salario: 3400000\n",
            "Dias laborados: 123\n",
            "fechaDeContratacion:123456\n",
            "slbasic:3400000.0\n",
            "dias_lab:123\n"
          ]
        }
      ],
      "source": [
        "def datosDePersona():\n",
        "    identificacion = int(input(\"Digite Numero de cedula : \"))\n",
        "    nombre = input(\"Digite su nombre: \")\n",
        "    edad = int(input(\"Edad : \"))\n",
        "    estadocivil = input(\"Estado: \")\n",
        "    hijos = input(\"tiene hijos: \")\n",
        "    estatura = float(input(\"digite la estatura: \"))   \n",
        "    direccion = input(\"Direccion: \")\n",
        "    telefono = int(input(\"Telefono: \"))\n",
        "    print(\"identificacion es {}\".format(identificacion))\n",
        "    print(\"nombre: {}\".format(nombre))\n",
        "    print(\"edad: {}\".format(edad))\n",
        "    print(\"estadocivil: {}\".format(estadocivil))\n",
        "    print(\"hijos: {}\".format(hijos))\n",
        "    print(\"estatura: {}\".format(estatura))\n",
        "    print(\"direccion: {}\".format(direccion))\n",
        "    print(\"telefono: {}\".format(telefono))\n",
        "    return identificacion, nombre, edad, estadocivil, hijos, estatura, direccion, telefono\n",
        "\n",
        "\n",
        "\n",
        "def datosLaborales():\n",
        "    fechaDeContratacion = int(input(\"Fecha contratacion: \"))\n",
        "    SueldoBasico = float(input(\"Salario: \"))\n",
        "    diasLaborados = int(input(\"Dias laborados: \"))\n",
        "    print(\"fechaDeContratacion:{}\".format(fechaDeContratacion))\n",
        "    print(\"slbasic:{}\".format(SueldoBasico))\n",
        "    print(\"dias_lab:{}\".format(diasLaborados))\n",
        "    return fechaDeContratacion, SueldoBasico, diasLaborados\n",
        "\n",
        "\n",
        "datostrabajador = datosDePersona()\n",
        "datoslaboralestrabajador = datosLaborales()\n",
        "\n",
        "\n"
      ]
    }
  ]
}