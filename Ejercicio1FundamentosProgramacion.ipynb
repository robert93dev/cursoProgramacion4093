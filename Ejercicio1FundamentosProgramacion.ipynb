{
  "nbformat": 4,
  "nbformat_minor": 0,
  "metadata": {
    "colab": {
      "provenance": []
    },
    "kernelspec": {
      "name": "python3",
      "display_name": "Python 3"
    },
    "language_info": {
      "name": "python"
    }
  },
  "cells": [
    {
      "cell_type": "markdown",
      "source": [
        "Taller\n",
        "\n",
        "No de Identificación, Nombres, Apellidos, Dirección, Teléfono, Edad, Estado Civil, Número de hijos, Estatura en centímetros, fecha de contratación (Día/mes/año), Sueldo básico, Días Laborados."
      ],
      "metadata": {
        "id": "jT3BpIwvYcCg"
      }
    },
    {
      "cell_type": "code",
      "source": [
        "No_de_Identificacion = input(\"Digite su No de Identificacion: \")\n",
        "Nombres = input(\"Digite su Nombres: \")\n",
        "Apellidos = input(\"Digite su Apellidos: \")\n",
        "Direccion = input(\"Digite su Direccion: \")\n",
        "Telefono = input(\"Digite su Telefono: \")\n",
        "Edad = input(\"Digite su Edad: \")\n",
        "Estado_Civil = input(\"Digite su Estado Civil: \")\n",
        "Numero_de_hijos = input(\"Digite su Numero de hijos: \")\n",
        "Estatura_en_centimetros = input(\"Digite su Estatura en centimetros: \")\n",
        "fecha_de_contratación = input(\"Digite su fecha de contratación: \")\n",
        "Sueldo_basico = input(\"Digite su Sueldo basico: \")\n",
        "Dias_Laborados = input(\"Digite su Dias Laborados: \")\n",
        "\n",
        "print(No_de_Identificacion)\n",
        "print(Nombres)\n",
        "print(Apellidos)\n",
        "print(Direccion)\n",
        "print(Telefono)\n",
        "print(Edad)\n",
        "print(Estado_Civil)\n",
        "print(Numero_de_hijos)\n",
        "print(Estatura_en_centimetros)\n",
        "print(fecha_de_contratación)\n",
        "print(Sueldo_basico)\n",
        "print(Dias_Laborados)"
      ],
      "metadata": {
        "colab": {
          "base_uri": "https://localhost:8080/"
        },
        "id": "9xab5FNAYhrY",
        "outputId": "65f45ba0-3ea0-44f3-e5a7-c3a00d2fd738"
      },
      "execution_count": null,
      "outputs": [
        {
          "output_type": "stream",
          "name": "stdout",
          "text": [
            "Digite su No de Identificacion: 123456\n",
            "Digite su Nombres: Robert\n",
            "Digite su Apellidos: Jordan\n",
            "Digite su Direccion: Cr 49 b\n",
            "Digite su Telefono: 3238071940\n",
            "Digite su Edad: 45\n",
            "Digite su Estado Civil: casado\n",
            "Digite su Numero de hijos: 1\n",
            "Digite su Estatura en centimetros: 182\n",
            "Digite su fecha de contratación: 27 04 78\n",
            "Digite su Sueldo basico: 3000000\n",
            "Digite su Dias Laborados: 150\n",
            "123456\n",
            "Robert\n",
            "Jordan\n",
            "Cr 49 b\n",
            "3238071940\n",
            "45\n",
            "casado\n",
            "1\n",
            "182\n",
            "27 04 78\n",
            "3000000\n",
            "150\n"
          ]
        }
      ]
    }
  ]
}